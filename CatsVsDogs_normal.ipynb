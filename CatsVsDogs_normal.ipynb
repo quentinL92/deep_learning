{
 "cells": [
  {
   "cell_type": "code",
   "execution_count": 1,
   "metadata": {},
   "outputs": [
    {
     "name": "stdout",
     "output_type": "stream",
     "text": [
      "TRAINING cats images: 10000\n",
      "TRAINING dogs images: 10000\n",
      "TOTAL:\t20000\n",
      "VALIDATION cats images: 2500\n",
      "VALIDATION dogs images: 2500\n",
      "TOTAL:\t5000\n",
      "TEST images: 12500\n"
     ]
    }
   ],
   "source": [
    "import os\n",
    "from os.path import join\n",
    "\n",
    "original_dir = 'D:\\\\Images\\\\Data\\\\CatsVsDogs'\n",
    "train_dir = join(original_dir, 'train')\n",
    "train_dog_dir = join(train_dir, 'dog')\n",
    "train_cat_dir = join(train_dir, 'cat')\n",
    "\n",
    "test_dir = join(original_dir, 'test')\n",
    "\n",
    "validation_dir = join(original_dir, 'validation')\n",
    "validation_dog_dir = join(validation_dir, 'dog')\n",
    "validation_cat_dir = join(validation_dir, 'cat')\n",
    "\n",
    "print(f'TRAINING cats images: {len(os.listdir(train_cat_dir))}')\n",
    "print(f'TRAINING dogs images: {len(os.listdir(train_dog_dir))}')\n",
    "print(f'TOTAL:\\t{len(os.listdir(train_cat_dir)) + len(os.listdir(train_dog_dir))}')\n",
    "\n",
    "print(f'VALIDATION cats images: {len(os.listdir(validation_cat_dir))}')\n",
    "print(f'VALIDATION dogs images: {len(os.listdir(validation_dog_dir))}')\n",
    "print(f'TOTAL:\\t{len(os.listdir(validation_cat_dir)) + len(os.listdir(validation_dog_dir))}')\n",
    "\n",
    "print(f'TEST images: {len(os.listdir(test_dir))}')"
   ]
  },
  {
   "cell_type": "code",
   "execution_count": 2,
   "metadata": {},
   "outputs": [
    {
     "name": "stdout",
     "output_type": "stream",
     "text": [
      "WARNING:tensorflow:From C:\\Users\\quent\\Anaconda3\\envs\\tensorflow\\lib\\site-packages\\tensorflow_core\\python\\ops\\resource_variable_ops.py:1630: calling BaseResourceVariable.__init__ (from tensorflow.python.ops.resource_variable_ops) with constraint is deprecated and will be removed in a future version.\n",
      "Instructions for updating:\n",
      "If using Keras pass *_constraint arguments to layers.\n",
      "Model: \"sequential\"\n",
      "_________________________________________________________________\n",
      "Layer (type)                 Output Shape              Param #   \n",
      "=================================================================\n",
      "conv2d (Conv2D)              (None, 148, 148, 32)      896       \n",
      "_________________________________________________________________\n",
      "max_pooling2d (MaxPooling2D) (None, 74, 74, 32)        0         \n",
      "_________________________________________________________________\n",
      "conv2d_1 (Conv2D)            (None, 72, 72, 64)        18496     \n",
      "_________________________________________________________________\n",
      "max_pooling2d_1 (MaxPooling2 (None, 36, 36, 64)        0         \n",
      "_________________________________________________________________\n",
      "conv2d_2 (Conv2D)            (None, 34, 34, 128)       73856     \n",
      "_________________________________________________________________\n",
      "max_pooling2d_2 (MaxPooling2 (None, 17, 17, 128)       0         \n",
      "_________________________________________________________________\n",
      "conv2d_3 (Conv2D)            (None, 15, 15, 128)       147584    \n",
      "_________________________________________________________________\n",
      "max_pooling2d_3 (MaxPooling2 (None, 7, 7, 128)         0         \n",
      "_________________________________________________________________\n",
      "flatten (Flatten)            (None, 6272)              0         \n",
      "_________________________________________________________________\n",
      "dense (Dense)                (None, 512)               3211776   \n",
      "_________________________________________________________________\n",
      "dense_1 (Dense)              (None, 1)                 513       \n",
      "=================================================================\n",
      "Total params: 3,453,121\n",
      "Trainable params: 3,453,121\n",
      "Non-trainable params: 0\n",
      "_________________________________________________________________\n"
     ]
    }
   ],
   "source": [
    "from tensorflow.keras import layers, models\n",
    "\n",
    "model = models.Sequential()\n",
    "model.add(layers.Conv2D(32,\n",
    "                        (3, 3),\n",
    "                        activation='relu',\n",
    "                        input_shape=(150, 150, 3)))\n",
    "model.add(layers.MaxPooling2D((2, 2)))\n",
    "model.add(layers.Conv2D(64, (3, 3), activation='relu'))\n",
    "model.add(layers.MaxPooling2D((2, 2)))\n",
    "model.add(layers.Conv2D(128, (3, 3), activation='relu'))\n",
    "model.add(layers.MaxPooling2D((2, 2)))\n",
    "model.add(layers.Conv2D(128, (3, 3), activation='relu'))\n",
    "model.add(layers.MaxPooling2D((2, 2)))\n",
    "model.add(layers.Flatten())\n",
    "model.add(layers.Dense(512, activation='relu'))\n",
    "model.add(layers.Dense(1, activation='sigmoid'))\n",
    "\n",
    "model.summary()"
   ]
  },
  {
   "cell_type": "code",
   "execution_count": 3,
   "metadata": {},
   "outputs": [
    {
     "name": "stdout",
     "output_type": "stream",
     "text": [
      "WARNING:tensorflow:From C:\\Users\\quent\\Anaconda3\\envs\\tensorflow\\lib\\site-packages\\tensorflow_core\\python\\ops\\nn_impl.py:183: where (from tensorflow.python.ops.array_ops) is deprecated and will be removed in a future version.\n",
      "Instructions for updating:\n",
      "Use tf.where in 2.0, which has the same broadcast rule as np.where\n"
     ]
    }
   ],
   "source": [
    "from tensorflow.keras import optimizers\n",
    "\n",
    "model.compile(loss='binary_crossentropy',\n",
    "             optimizer=optimizers.RMSprop(lr=1e-4),\n",
    "              metrics=['acc'])"
   ]
  },
  {
   "cell_type": "code",
   "execution_count": 4,
   "metadata": {},
   "outputs": [
    {
     "name": "stdout",
     "output_type": "stream",
     "text": [
      "Found 20000 images belonging to 2 classes.\n",
      "Found 5000 images belonging to 2 classes.\n"
     ]
    }
   ],
   "source": [
    "from tensorflow.keras.preprocessing.image import ImageDataGenerator\n",
    "\n",
    "# All images will be rescaled by 1./255\n",
    "simple_datagen = ImageDataGenerator(rescale=1./255)\n",
    "\n",
    "train_generator = simple_datagen.flow_from_directory(\n",
    "        train_dir,\n",
    "        target_size=(150, 150),\n",
    "        batch_size=100,\n",
    "        class_mode='binary')\n",
    "\n",
    "validation_generator = simple_datagen.flow_from_directory(\n",
    "        validation_dir,\n",
    "        target_size=(150, 150),\n",
    "        batch_size=100,\n",
    "        class_mode='binary')"
   ]
  },
  {
   "cell_type": "code",
   "execution_count": 5,
   "metadata": {},
   "outputs": [
    {
     "name": "stdout",
     "output_type": "stream",
     "text": [
      "Epoch 1/15\n",
      "199/200 [============================>.] - ETA: 0s - loss: 0.6577 - acc: 0.5994Epoch 1/15\n",
      "200/200 [==============================] - 47s 235ms/step - loss: 0.6576 - acc: 0.5997 - val_loss: 0.6025 - val_acc: 0.6812\n",
      "Epoch 2/15\n",
      "199/200 [============================>.] - ETA: 0s - loss: 0.5698 - acc: 0.7030Epoch 1/15\n",
      "200/200 [==============================] - 42s 209ms/step - loss: 0.5698 - acc: 0.7029 - val_loss: 0.5476 - val_acc: 0.7176\n",
      "Epoch 3/15\n",
      "199/200 [============================>.] - ETA: 0s - loss: 0.5164 - acc: 0.7469Epoch 1/15\n",
      "200/200 [==============================] - 42s 210ms/step - loss: 0.5163 - acc: 0.7470 - val_loss: 0.4934 - val_acc: 0.7616\n",
      "Epoch 4/15\n",
      "199/200 [============================>.] - ETA: 0s - loss: 0.4812 - acc: 0.7654Epoch 1/15\n",
      "200/200 [==============================] - 42s 210ms/step - loss: 0.4809 - acc: 0.7656 - val_loss: 0.4924 - val_acc: 0.7640\n",
      "Epoch 5/15\n",
      "199/200 [============================>.] - ETA: 0s - loss: 0.4532 - acc: 0.7864Epoch 1/15\n",
      "200/200 [==============================] - 42s 208ms/step - loss: 0.4529 - acc: 0.7867 - val_loss: 0.4721 - val_acc: 0.7676\n",
      "Epoch 6/15\n",
      "199/200 [============================>.] - ETA: 0s - loss: 0.4321 - acc: 0.7997Epoch 1/15\n",
      "200/200 [==============================] - 42s 208ms/step - loss: 0.4322 - acc: 0.7996 - val_loss: 0.4495 - val_acc: 0.7946\n",
      "Epoch 7/15\n",
      "199/200 [============================>.] - ETA: 0s - loss: 0.4124 - acc: 0.8132Epoch 1/15\n",
      "200/200 [==============================] - 42s 209ms/step - loss: 0.4122 - acc: 0.8133 - val_loss: 0.4133 - val_acc: 0.8142\n",
      "Epoch 8/15\n",
      "199/200 [============================>.] - ETA: 0s - loss: 0.3945 - acc: 0.8235Epoch 1/15\n",
      "200/200 [==============================] - 42s 209ms/step - loss: 0.3942 - acc: 0.8237 - val_loss: 0.4515 - val_acc: 0.7822\n",
      "Epoch 9/15\n",
      "199/200 [============================>.] - ETA: 0s - loss: 0.3763 - acc: 0.8338Epoch 1/15\n",
      "200/200 [==============================] - 42s 210ms/step - loss: 0.3765 - acc: 0.8336 - val_loss: 0.3878 - val_acc: 0.8294\n",
      "Epoch 10/15\n",
      "199/200 [============================>.] - ETA: 0s - loss: 0.3583 - acc: 0.8417Epoch 1/15\n",
      "200/200 [==============================] - 42s 210ms/step - loss: 0.3583 - acc: 0.8415 - val_loss: 0.3936 - val_acc: 0.8174\n",
      "Epoch 11/15\n",
      "199/200 [============================>.] - ETA: 0s - loss: 0.3455 - acc: 0.8476Epoch 1/15\n",
      "200/200 [==============================] - 42s 208ms/step - loss: 0.3455 - acc: 0.8477 - val_loss: 0.3735 - val_acc: 0.8362\n",
      "Epoch 12/15\n",
      "199/200 [============================>.] - ETA: 0s - loss: 0.3309 - acc: 0.8542Epoch 1/15\n",
      "200/200 [==============================] - 42s 210ms/step - loss: 0.3310 - acc: 0.8541 - val_loss: 0.4067 - val_acc: 0.8092\n",
      "Epoch 13/15\n",
      "199/200 [============================>.] - ETA: 0s - loss: 0.3148 - acc: 0.8652Epoch 1/15\n",
      "200/200 [==============================] - 42s 209ms/step - loss: 0.3151 - acc: 0.8651 - val_loss: 0.3979 - val_acc: 0.8190\n",
      "Epoch 14/15\n",
      "199/200 [============================>.] - ETA: 0s - loss: 0.3012 - acc: 0.8728Epoch 1/15\n",
      "200/200 [==============================] - 42s 208ms/step - loss: 0.3011 - acc: 0.8727 - val_loss: 0.3912 - val_acc: 0.8186\n",
      "Epoch 15/15\n",
      "199/200 [============================>.] - ETA: 0s - loss: 0.2854 - acc: 0.8781Epoch 1/15\n",
      "200/200 [==============================] - 42s 210ms/step - loss: 0.2855 - acc: 0.8781 - val_loss: 0.3611 - val_acc: 0.8418\n"
     ]
    }
   ],
   "source": [
    "history = model.fit_generator(\n",
    "      train_generator,\n",
    "      steps_per_epoch=200,\n",
    "      epochs=15,\n",
    "      validation_data=validation_generator,\n",
    "      validation_steps=50)"
   ]
  },
  {
   "cell_type": "code",
   "execution_count": null,
   "metadata": {},
   "outputs": [],
   "source": [
    "import matplotlib.pyplot as plt\n",
    "\n",
    "acc = history.history['acc']\n",
    "val_acc = history.history['val_acc']\n",
    "loss = history.history['loss']\n",
    "val_loss = history.history['val_loss']\n",
    "\n",
    "epochs = range(len(acc))\n",
    "\n",
    "plt.plot(epochs, acc, 'bo', label='Training acc')\n",
    "plt.plot(epochs, val_acc, 'b', label='Validation acc')\n",
    "plt.title('Training and validation accuracy')\n",
    "plt.legend()\n",
    "\n",
    "plt.figure()\n",
    "\n",
    "plt.plot(epochs, loss, 'bo', label='Training loss')\n",
    "plt.plot(epochs, val_loss, 'b', label='Validation loss')\n",
    "plt.title('Training and validation loss')\n",
    "plt.legend()\n",
    "\n",
    "plt.show()"
   ]
  }
 ],
 "metadata": {
  "kernelspec": {
   "display_name": "Python 3",
   "language": "python",
   "name": "python3"
  },
  "language_info": {
   "codemirror_mode": {
    "name": "ipython",
    "version": 3
   },
   "file_extension": ".py",
   "mimetype": "text/x-python",
   "name": "python",
   "nbconvert_exporter": "python",
   "pygments_lexer": "ipython3",
   "version": "3.7.4"
  }
 },
 "nbformat": 4,
 "nbformat_minor": 2
}
